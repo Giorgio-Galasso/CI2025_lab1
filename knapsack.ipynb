{
 "cells": [
  {
   "cell_type": "markdown",
   "id": "11fa4375",
   "metadata": {},
   "source": [
    "Copyright **`(c)`** 2025 Giovanni Squillero `<giovanni.squillero@polito.it>`  \n",
    "[`https://github.com/squillero/computational-intelligence`](https://github.com/squillero/computational-intelligence)  \n",
    "Free under certain conditions — see the [`license`](https://github.com/squillero/computational-intelligence/blob/master/LICENSE.md) for details.  "
   ]
  },
  {
   "cell_type": "code",
   "execution_count": 50,
   "id": "c0882a9f",
   "metadata": {},
   "outputs": [],
   "source": [
    "from itertools import accumulate\n",
    "from icecream import ic\n",
    "import numpy as np\n",
    "from tqdm.auto import tqdm\n",
    "from matplotlib import pyplot as plt"
   ]
  },
  {
   "cell_type": "code",
   "execution_count": 51,
   "id": "3adb670e",
   "metadata": {},
   "outputs": [],
   "source": [
    "NUM_KNAPSACKS = 2\n",
    "NUM_ITEMS = 10\n",
    "NUM_DIMENSIONS = 2"
   ]
  },
  {
   "cell_type": "code",
   "execution_count": 52,
   "id": "2db51e99",
   "metadata": {},
   "outputs": [],
   "source": [
    "VALUES = np.random.randint(0, 100, size=NUM_ITEMS)\n",
    "WEIGHTS = np.random.randint(0, 100, size=(NUM_ITEMS, NUM_DIMENSIONS))\n",
    "CONSTRAINTS = np.random.randint(0, 100 * NUM_ITEMS // NUM_KNAPSACKS, size=NUM_DIMENSIONS)"
   ]
  },
  {
   "cell_type": "code",
   "execution_count": 53,
   "id": "2abb812d",
   "metadata": {},
   "outputs": [
    {
     "data": {
      "text/plain": [
       "array([39, 49, 79, 79, 56, 98, 20, 27, 43, 18], dtype=int32)"
      ]
     },
     "execution_count": 53,
     "metadata": {},
     "output_type": "execute_result"
    }
   ],
   "source": [
    "VALUES"
   ]
  },
  {
   "cell_type": "code",
   "execution_count": 261,
   "id": "eafc7848",
   "metadata": {},
   "outputs": [
    {
     "data": {
      "text/plain": [
       "array([[832, 199, 804,   7, 796, 786, 780, 664, 471, 705],\n",
       "       [277, 780, 555, 458, 505, 568,  37, 139, 245, 114],\n",
       "       [439, 668, 654, 471, 855, 565,  79, 764, 574, 634],\n",
       "       [565, 553,  90, 559, 794, 303, 602,  30, 347, 436],\n",
       "       [982, 214, 276, 408, 992, 853,  34, 233, 821,  58],\n",
       "       [855, 281, 917, 293, 434, 661, 126, 557, 505, 783],\n",
       "       [996, 664, 409, 406, 417, 814, 321, 166, 334,  22],\n",
       "       [106,  90, 771, 722, 696, 461, 717, 161, 900, 501],\n",
       "       [938, 152, 497, 696, 495, 446, 166, 381, 238, 301],\n",
       "       [683, 630, 607, 361, 959,  87, 342, 118, 338, 961],\n",
       "       [366, 908, 495, 699, 457, 265, 764, 969, 263, 778],\n",
       "       [261, 716, 789, 449, 736, 272,  79,  96, 447, 902],\n",
       "       [127, 455, 704, 202, 721, 305, 808, 579, 546, 176],\n",
       "       [463, 856,  19, 758, 492, 719, 663, 432, 308, 627],\n",
       "       [140, 584,  94, 649, 628,  84, 757, 415, 786,  41],\n",
       "       [179, 493, 188, 329, 660, 144, 677, 103, 175, 587],\n",
       "       [793, 170, 299, 925, 989, 581, 447, 346, 612, 590],\n",
       "       [294,  22, 151, 958, 418, 482, 467, 782,  64,  82],\n",
       "       [275, 486, 671, 490, 441, 937, 161, 571, 542, 473],\n",
       "       [807, 266, 953, 331, 545, 520, 849, 438, 284,  21],\n",
       "       [363, 826,   9, 896, 542, 140, 302, 554, 315, 108],\n",
       "       [665, 672, 118, 281, 243, 659, 730, 726, 938, 768],\n",
       "       [320, 107, 614, 916, 975, 230, 236,  37, 141, 554],\n",
       "       [546, 370, 309, 829, 460, 808, 963, 317, 202, 952],\n",
       "       [634, 290, 621, 515, 905, 255, 991, 936, 180, 164],\n",
       "       [533,  44, 298, 435, 969, 992, 151, 891,  90, 748],\n",
       "       [845, 890, 223, 893, 115, 518, 469, 315,  22, 772],\n",
       "       [335, 661, 410, 373, 886,  94, 736, 746, 379, 262],\n",
       "       [  5, 936, 947, 240,  31, 122,  67, 831, 891, 153],\n",
       "       [746, 179, 367, 599, 719, 874,  44, 196, 280, 310],\n",
       "       [998, 777, 320, 971, 499, 500, 433, 143, 934,  13],\n",
       "       [174, 229, 279, 131,  17, 677, 969, 121, 296, 506],\n",
       "       [927, 694, 766, 581, 417, 199, 864, 804,  25, 715],\n",
       "       [ 84, 738, 825, 131, 433, 123, 567, 927,  80, 397],\n",
       "       [973, 300, 132, 488, 508, 662, 313, 955, 521, 286],\n",
       "       [960, 924, 499,  24, 596, 555, 148, 633, 840, 105],\n",
       "       [723, 140, 748, 419,   6, 966, 165, 596, 181, 933],\n",
       "       [738, 804, 432, 467, 634, 784, 846,  17, 663, 109],\n",
       "       [287, 829, 250, 796, 463, 232, 334, 530, 765, 606],\n",
       "       [933, 867, 753, 603, 289, 412, 118, 374, 926, 425],\n",
       "       [113, 651, 962, 867, 274, 453, 531, 247, 268, 236],\n",
       "       [994, 746, 840, 816, 959, 105, 881,  66, 475, 594],\n",
       "       [357, 146, 192, 824, 318, 310, 923, 143, 915, 920],\n",
       "       [598, 165, 155, 284, 577, 153, 455, 115, 540,  21],\n",
       "       [709,  55, 194, 174, 830,  53, 429, 591, 515, 680],\n",
       "       [803, 393, 828, 317, 984, 504, 736, 875, 792, 851],\n",
       "       [536,  43, 493, 181, 889, 236, 228, 249, 642, 571],\n",
       "       [948, 416, 282,  49,   7, 373, 925, 523, 893, 101],\n",
       "       [ 93, 833, 106,  51, 404, 924, 689,  99, 837, 843],\n",
       "       [800, 902, 239, 979, 320, 802, 579, 779, 627, 642],\n",
       "       [616, 778, 739, 134, 826, 536, 323, 514, 966, 857],\n",
       "       [833, 462, 784, 385, 686, 639, 249, 266,  61, 139],\n",
       "       [433, 477, 165, 416, 604, 232, 338, 367, 505, 366],\n",
       "       [736, 327, 433, 379, 182, 685, 235, 296, 792, 948],\n",
       "       [670, 916, 854, 480, 770, 328, 460, 535, 960, 848],\n",
       "       [489, 652, 202, 804, 553, 532, 766, 632,  72, 288],\n",
       "       [176, 734,  35, 202, 597, 694, 503, 860, 918, 132],\n",
       "       [952, 614, 636,  95, 621, 725, 580,  84, 523, 935],\n",
       "       [723, 137, 959, 958, 169, 800, 406, 593, 445, 782],\n",
       "       [996, 795, 931, 946,  90, 253, 721, 590,  50,  95],\n",
       "       [520, 616, 167, 171, 129, 564,   7, 572, 475, 465],\n",
       "       [679, 522, 727, 763, 920, 799, 517, 492, 235, 599],\n",
       "       [139, 931, 845, 119, 785, 117, 721,  87, 488, 657],\n",
       "       [728, 418, 921, 774, 208, 671, 730, 333, 738, 898],\n",
       "       [817, 762, 634, 270, 795, 364, 532, 314, 313, 157],\n",
       "       [961, 147,  86, 936, 555, 437, 737, 383, 127, 729],\n",
       "       [175, 552, 949, 936, 360, 780, 612, 479, 139, 376],\n",
       "       [651, 986,   4, 717, 846, 951, 423, 118, 270, 850],\n",
       "       [877, 637, 122, 121, 478, 588,  32, 686, 544,  12],\n",
       "       [ 95, 454, 722, 825, 431, 295, 968, 458, 315, 442],\n",
       "       [ 12, 301, 515, 918, 738, 781, 544, 110, 390, 997],\n",
       "       [ 44, 879, 684, 283, 777, 836,  43, 106, 665, 999],\n",
       "       [ 23, 665, 136, 650, 623,  90, 680, 897, 863,  28],\n",
       "       [245, 240, 453, 143, 854, 776, 808, 198,  14, 910],\n",
       "       [288, 656, 909,  36,   5,   5, 156,  51, 819, 605],\n",
       "       [980, 801, 963, 238, 287, 849, 244,  57, 669, 800],\n",
       "       [968, 927, 120, 772, 846, 698, 819, 837, 446,  40],\n",
       "       [456, 201, 113, 124, 697, 504, 539, 745, 548, 630],\n",
       "       [ 86, 851, 448, 155, 813, 734,  53, 193,  15, 270],\n",
       "       [ 99, 709, 522, 980, 749, 611, 509,  54,  70, 616],\n",
       "       [  4,  42, 219, 884, 458, 709, 411, 173, 371,  91],\n",
       "       [770, 183, 376, 980, 591, 458, 543, 784, 254, 636],\n",
       "       [872, 572, 446, 145, 248, 946, 541, 301, 418, 578],\n",
       "       [537, 699, 257, 649, 442, 940, 157, 148, 461, 508],\n",
       "       [690, 404, 913, 474, 129, 119, 973, 134, 947, 278],\n",
       "       [ 93, 304, 614, 427, 785, 610, 400, 634, 971, 411],\n",
       "       [153, 408, 840, 217, 949, 588, 601, 317, 920,  36],\n",
       "       [298, 418, 477, 474, 147, 225,  95, 572, 350, 565],\n",
       "       [589, 702, 547, 647, 587, 652, 616, 316, 246, 787],\n",
       "       [342, 549, 196, 431, 529, 626, 526, 360, 961, 512],\n",
       "       [808, 736, 558, 886, 128, 921, 850, 503, 733, 520],\n",
       "       [268, 799, 245, 314, 519, 837, 383, 494,  41, 115],\n",
       "       [ 55,  72, 868, 841, 821,  55,  77, 280, 565, 334],\n",
       "       [487, 172, 730, 313,  66, 742, 902,  14, 436, 827],\n",
       "       [706, 856, 415, 372, 709, 153, 239, 600, 668, 119],\n",
       "       [508, 364, 501, 958,  76, 995, 449, 772, 424, 310],\n",
       "       [770, 687, 144, 705, 753, 387, 925, 640, 333,  10],\n",
       "       [674, 209, 756, 525, 466, 163, 711, 165, 417, 836],\n",
       "       [920, 989, 958, 555, 200, 839, 801, 990, 650, 141],\n",
       "       [502, 448, 842, 392, 328,  80, 835, 755,  41, 433]])"
      ]
     },
     "execution_count": 261,
     "metadata": {},
     "output_type": "execute_result"
    }
   ],
   "source": [
    "WEIGHTS"
   ]
  },
  {
   "cell_type": "code",
   "execution_count": 105,
   "id": "5e531a9e",
   "metadata": {},
   "outputs": [
    {
     "data": {
      "text/plain": [
       "array([614, 496])"
      ]
     },
     "execution_count": 105,
     "metadata": {},
     "output_type": "execute_result"
    }
   ],
   "source": [
    "CONSTRAINTS"
   ]
  },
  {
   "cell_type": "code",
   "execution_count": 262,
   "id": "dade6b3c",
   "metadata": {},
   "outputs": [],
   "source": [
    "# A random solution\n",
    "solution = np.array(\n",
    "    [np.random.random(NUM_ITEMS) < 0.5 for _ in range(NUM_KNAPSACKS)], dtype=np.bool\n",
    ")"
   ]
  },
  {
   "cell_type": "code",
   "execution_count": 263,
   "id": "f21d5749",
   "metadata": {},
   "outputs": [
    {
     "data": {
      "text/plain": [
       "array([[ True,  True,  True,  True,  True,  True,  True, False, False,\n",
       "        False,  True,  True,  True, False,  True, False, False, False,\n",
       "        False,  True, False, False, False,  True,  True, False, False,\n",
       "         True,  True,  True,  True, False,  True,  True,  True, False,\n",
       "        False, False,  True, False, False, False,  True, False,  True,\n",
       "         True, False, False, False,  True,  True, False,  True,  True,\n",
       "        False,  True, False,  True,  True,  True, False,  True,  True,\n",
       "        False,  True, False,  True, False,  True,  True,  True,  True,\n",
       "        False, False,  True,  True,  True, False,  True, False, False,\n",
       "         True, False, False,  True,  True, False,  True,  True,  True,\n",
       "         True,  True, False,  True,  True,  True,  True, False,  True,\n",
       "        False],\n",
       "       [ True, False, False, False,  True,  True, False, False, False,\n",
       "         True, False,  True,  True,  True,  True, False, False,  True,\n",
       "        False, False, False,  True,  True, False, False,  True,  True,\n",
       "        False,  True,  True, False, False, False, False,  True,  True,\n",
       "        False,  True, False,  True, False,  True, False, False, False,\n",
       "        False,  True,  True, False,  True, False,  True,  True,  True,\n",
       "        False, False, False,  True, False, False, False, False, False,\n",
       "         True,  True,  True,  True,  True,  True,  True,  True,  True,\n",
       "        False, False, False, False,  True,  True,  True,  True,  True,\n",
       "        False,  True,  True,  True, False, False, False, False,  True,\n",
       "        False, False, False,  True, False,  True,  True, False,  True,\n",
       "         True],\n",
       "       [False, False,  True,  True,  True, False,  True,  True,  True,\n",
       "         True, False,  True, False, False, False,  True, False,  True,\n",
       "        False,  True, False,  True, False, False, False, False,  True,\n",
       "        False,  True, False, False,  True,  True,  True, False, False,\n",
       "        False,  True, False, False, False,  True,  True,  True,  True,\n",
       "         True, False, False,  True, False,  True,  True,  True, False,\n",
       "         True,  True, False, False,  True, False,  True,  True,  True,\n",
       "         True,  True, False, False, False,  True, False,  True,  True,\n",
       "         True,  True, False, False,  True, False,  True,  True,  True,\n",
       "        False, False, False,  True, False,  True,  True, False,  True,\n",
       "         True,  True,  True, False, False, False, False,  True,  True,\n",
       "         True],\n",
       "       [False,  True,  True,  True, False,  True,  True, False,  True,\n",
       "         True,  True, False, False,  True,  True, False,  True, False,\n",
       "         True,  True, False, False,  True, False,  True,  True, False,\n",
       "         True,  True, False,  True, False, False, False,  True,  True,\n",
       "         True, False,  True,  True, False, False, False,  True, False,\n",
       "         True, False,  True, False,  True,  True,  True, False, False,\n",
       "         True, False,  True, False,  True,  True, False,  True, False,\n",
       "         True,  True,  True,  True, False,  True, False,  True,  True,\n",
       "        False,  True,  True, False,  True, False,  True, False, False,\n",
       "        False,  True,  True, False,  True,  True,  True, False,  True,\n",
       "        False,  True, False, False, False, False, False,  True,  True,\n",
       "        False],\n",
       "       [False, False, False,  True,  True, False, False, False, False,\n",
       "         True, False,  True,  True,  True, False, False,  True,  True,\n",
       "        False, False, False, False,  True, False, False, False,  True,\n",
       "        False, False, False,  True,  True, False,  True, False, False,\n",
       "         True,  True,  True, False, False,  True,  True, False, False,\n",
       "         True,  True, False,  True, False,  True, False, False,  True,\n",
       "        False, False,  True, False, False, False,  True,  True,  True,\n",
       "         True, False, False, False,  True, False,  True,  True,  True,\n",
       "        False,  True, False, False,  True,  True, False, False,  True,\n",
       "         True, False,  True,  True, False, False,  True,  True, False,\n",
       "        False, False, False, False, False,  True, False, False,  True,\n",
       "        False],\n",
       "       [ True, False,  True,  True, False, False,  True, False, False,\n",
       "        False,  True,  True, False,  True,  True, False,  True, False,\n",
       "        False,  True,  True,  True,  True,  True, False, False, False,\n",
       "        False,  True, False, False,  True,  True,  True, False, False,\n",
       "        False,  True,  True,  True, False, False,  True,  True, False,\n",
       "        False,  True, False,  True, False, False, False,  True, False,\n",
       "         True,  True, False, False, False,  True,  True,  True,  True,\n",
       "         True, False, False, False, False, False, False, False,  True,\n",
       "        False,  True, False,  True,  True, False,  True, False,  True,\n",
       "         True,  True, False, False, False,  True,  True, False, False,\n",
       "        False,  True,  True,  True,  True, False,  True, False, False,\n",
       "         True],\n",
       "       [False,  True,  True, False,  True,  True, False,  True,  True,\n",
       "        False,  True, False, False,  True, False,  True, False, False,\n",
       "        False, False, False,  True,  True, False,  True,  True,  True,\n",
       "        False, False,  True,  True,  True,  True, False,  True, False,\n",
       "         True,  True, False,  True,  True,  True, False, False, False,\n",
       "         True, False,  True,  True, False,  True, False,  True,  True,\n",
       "        False, False, False, False,  True, False, False,  True, False,\n",
       "        False, False,  True,  True, False, False, False,  True, False,\n",
       "        False,  True,  True, False,  True, False,  True, False,  True,\n",
       "         True,  True, False, False, False,  True, False, False, False,\n",
       "        False, False,  True, False, False,  True,  True, False,  True,\n",
       "         True],\n",
       "       [ True,  True, False, False, False, False, False,  True, False,\n",
       "        False,  True, False, False,  True, False, False,  True, False,\n",
       "        False, False,  True,  True, False,  True,  True,  True,  True,\n",
       "        False,  True, False, False, False, False,  True,  True, False,\n",
       "         True, False, False,  True, False, False, False,  True, False,\n",
       "        False,  True,  True,  True,  True, False, False,  True, False,\n",
       "         True,  True,  True,  True,  True,  True,  True,  True,  True,\n",
       "         True,  True, False, False, False,  True, False, False, False,\n",
       "        False,  True,  True,  True,  True, False,  True,  True,  True,\n",
       "         True, False, False, False, False,  True, False, False, False,\n",
       "         True, False,  True, False, False, False, False,  True,  True,\n",
       "        False],\n",
       "       [ True, False,  True, False, False, False,  True,  True, False,\n",
       "         True,  True,  True, False, False, False,  True,  True, False,\n",
       "        False,  True, False, False,  True, False, False, False,  True,\n",
       "        False,  True, False,  True,  True,  True,  True, False, False,\n",
       "        False,  True,  True,  True,  True, False, False,  True, False,\n",
       "        False,  True,  True, False,  True, False,  True, False,  True,\n",
       "         True,  True, False,  True,  True, False,  True,  True, False,\n",
       "        False, False, False,  True,  True,  True, False,  True, False,\n",
       "        False, False, False,  True, False, False, False,  True, False,\n",
       "         True,  True, False,  True, False, False,  True, False,  True,\n",
       "        False,  True,  True, False,  True, False, False,  True,  True,\n",
       "         True],\n",
       "       [ True,  True,  True,  True,  True, False,  True,  True, False,\n",
       "         True, False, False,  True, False,  True, False, False, False,\n",
       "        False, False, False, False,  True, False,  True,  True, False,\n",
       "         True,  True,  True, False, False, False, False, False, False,\n",
       "        False, False,  True, False, False, False,  True,  True,  True,\n",
       "        False, False,  True,  True,  True, False,  True, False, False,\n",
       "        False,  True, False, False, False, False, False,  True, False,\n",
       "        False,  True,  True,  True, False, False, False, False, False,\n",
       "        False,  True, False, False, False, False, False,  True, False,\n",
       "        False, False,  True, False, False,  True, False, False,  True,\n",
       "         True, False,  True, False, False,  True,  True,  True, False,\n",
       "        False]])"
      ]
     },
     "execution_count": 263,
     "metadata": {},
     "output_type": "execute_result"
    }
   ],
   "source": [
    "solution"
   ]
  },
  {
   "cell_type": "code",
   "execution_count": 264,
   "id": "7de9a3fb",
   "metadata": {},
   "outputs": [
    {
     "data": {
      "text/plain": [
       "np.False_"
      ]
     },
     "execution_count": 264,
     "metadata": {},
     "output_type": "execute_result"
    }
   ],
   "source": [
    "# Check that the same object does not appear in multiple knapsacks\n",
    "np.all(solution.sum(axis=0) <= 1)"
   ]
  },
  {
   "cell_type": "code",
   "execution_count": 265,
   "id": "54d5b5ee",
   "metadata": {},
   "outputs": [
    {
     "data": {
      "text/plain": [
       "np.False_"
      ]
     },
     "execution_count": 265,
     "metadata": {},
     "output_type": "execute_result"
    }
   ],
   "source": [
    "# Check if the solution is valid\n",
    "all_knapsacks = np.any(solution, axis=0)\n",
    "np.all(WEIGHTS[all_knapsacks].sum(axis=0) < CONSTRAINTS)"
   ]
  },
  {
   "cell_type": "markdown",
   "id": "8e0e0673",
   "metadata": {},
   "source": [
    "## TEST PROBLEMS"
   ]
  },
  {
   "cell_type": "code",
   "execution_count": 219,
   "id": "5595db9c",
   "metadata": {},
   "outputs": [],
   "source": [
    "# Problem 1:\n",
    "rng = np.random.default_rng(seed=42)\n",
    "NUM_KNAPSACKS = 3\n",
    "NUM_ITEMS = 20\n",
    "NUM_DIMENSIONS = 2\n",
    "VALUES = rng.integers(0, 100, size=NUM_ITEMS)\n",
    "WEIGHTS = rng.integers(0, 100, size=(NUM_ITEMS, NUM_DIMENSIONS))\n",
    "CONSTRAINTS = rng.integers(0, 100 * NUM_ITEMS // NUM_KNAPSACKS, size=NUM_DIMENSIONS)"
   ]
  },
  {
   "cell_type": "code",
   "execution_count": 251,
   "id": "9eed08a0",
   "metadata": {},
   "outputs": [],
   "source": [
    "# Problem 2:\n",
    "rng = np.random.default_rng(seed=42)\n",
    "NUM_KNAPSACKS = 10\n",
    "NUM_ITEMS = 100\n",
    "NUM_DIMENSIONS = 10\n",
    "VALUES = rng.integers(0, 1000, size=NUM_ITEMS)\n",
    "WEIGHTS = rng.integers(0, 1000, size=(NUM_ITEMS, NUM_DIMENSIONS))\n",
    "CONSTRAINTS = rng.integers(1000 * 2, 1000 * NUM_ITEMS // NUM_KNAPSACKS, size=NUM_DIMENSIONS)"
   ]
  },
  {
   "cell_type": "code",
   "execution_count": 244,
   "id": "117380d6",
   "metadata": {},
   "outputs": [],
   "source": [
    "# Problem 3:\n",
    "rng = np.random.default_rng(seed=42)\n",
    "NUM_KNAPSACKS = 100\n",
    "NUM_ITEMS = 5000\n",
    "NUM_DIMENSIONS = 100\n",
    "VALUES = rng.integers(0, 1000, size=NUM_ITEMS)\n",
    "WEIGHTS = rng.integers(0, 1000, size=(NUM_ITEMS, NUM_DIMENSIONS))\n",
    "CONSTRAINTS = rng.integers(1000 * 10, 1000 * 2 * NUM_ITEMS // NUM_KNAPSACKS, size=NUM_DIMENSIONS)"
   ]
  },
  {
   "cell_type": "markdown",
   "id": "58ba1014",
   "metadata": {},
   "source": [
    "RMHC with a more powerfull twick"
   ]
  },
  {
   "cell_type": "code",
   "execution_count": 253,
   "id": "8ceca3e0",
   "metadata": {},
   "outputs": [],
   "source": [
    "MAX_STEPS = 20000"
   ]
  },
  {
   "cell_type": "code",
   "execution_count": 254,
   "id": "1ac07835",
   "metadata": {},
   "outputs": [],
   "source": [
    "def evaluate(knapsack):\n",
    "    #print(\"Pesi primo zaino\", np.sum(WEIGHTS[knapsack], axis=0))\n",
    "    #print(\"Peso totale primo zaino\", np.sum(WEIGHTS[knapsack], axis=0)[0])\n",
    "    if all(np.sum(WEIGHTS[knapsack], axis=0) < CONSTRAINTS):\n",
    "        return np.sum(VALUES[knapsack])\n",
    "    else:\n",
    "       return -1"
   ]
  },
  {
   "cell_type": "code",
   "execution_count": 266,
   "id": "baf73b1d",
   "metadata": {},
   "outputs": [],
   "source": [
    "def tweak(knapsack, items_taken):\n",
    "    new_knapsack = knapsack.copy()\n",
    "    index = None\n",
    "    while index is None or np.random.random() < 0.4:\n",
    "        index = np.random.randint(0, NUM_ITEMS)\n",
    "        if items_taken[index] == True:\n",
    "            index = None\n",
    "        else:\n",
    "            new_knapsack[index] = not new_knapsack[index]\n",
    "    return new_knapsack\n"
   ]
  },
  {
   "cell_type": "code",
   "execution_count": 267,
   "id": "3ecf73a2",
   "metadata": {},
   "outputs": [
    {
     "name": "stderr",
     "output_type": "stream",
     "text": [
      "100%|██████████| 20000/20000 [00:00<00:00, 21674.25it/s]\n",
      "100%|██████████| 20000/20000 [00:00<00:00, 21025.75it/s]\n",
      "100%|██████████| 20000/20000 [00:00<00:00, 21481.66it/s]\n",
      "100%|██████████| 20000/20000 [00:00<00:00, 20363.88it/s]\n",
      "100%|██████████| 20000/20000 [00:00<00:00, 20535.45it/s]\n",
      "100%|██████████| 20000/20000 [00:00<00:00, 20135.23it/s]\n",
      "100%|██████████| 20000/20000 [00:01<00:00, 19909.09it/s]\n",
      "100%|██████████| 20000/20000 [00:01<00:00, 19066.17it/s]\n",
      "100%|██████████| 20000/20000 [00:01<00:00, 18607.72it/s]\n",
      "100%|██████████| 20000/20000 [00:01<00:00, 18143.88it/s]\n"
     ]
    }
   ],
   "source": [
    "solution = np.full((NUM_KNAPSACKS, NUM_ITEMS), False)\n",
    "items_taken = np.full(NUM_ITEMS, False)\n",
    "\n",
    "for knapsack_id in range(NUM_KNAPSACKS):\n",
    "    knapsack = solution[knapsack_id]\n",
    "    best_solution = knapsack\n",
    "\n",
    "    history = [evaluate(best_solution)]\n",
    "    for n in tqdm(range(MAX_STEPS)):\n",
    "        new_solution = tweak(best_solution, items_taken)\n",
    "        history.append(evaluate(new_solution))\n",
    "        if evaluate(new_solution) > evaluate(best_solution):\n",
    "            best_solution = new_solution\n",
    "\n",
    "    items_taken = items_taken + best_solution\n",
    "    solution[knapsack_id] = best_solution\n",
    "\n",
    "#     # That's all...\n",
    "#     ic(evaluate(best_solution))\n",
    "#     ic(history.index(evaluate(best_solution)))\n",
    "\n",
    "#     plt.figure(figsize=(14, 8))\n",
    "#     plt.plot(\n",
    "#         range(len(history)),\n",
    "#         list(accumulate(history, max)),\n",
    "#         color=\"red\",\n",
    "#     )\n",
    "#     _ = plt.scatter(range(len(history)), history, marker=\".\")"
   ]
  },
  {
   "cell_type": "code",
   "execution_count": 268,
   "id": "31da8096",
   "metadata": {},
   "outputs": [
    {
     "name": "stdout",
     "output_type": "stream",
     "text": [
      "39933\n"
     ]
    }
   ],
   "source": [
    "total_value = 0\n",
    "total_weights = np.zeros((NUM_KNAPSACKS, WEIGHTS.shape[1]))\n",
    "\n",
    "for knapsack_id in range(NUM_KNAPSACKS):\n",
    "    total_value += np.sum(VALUES[solution[knapsack_id]], axis=0)\n",
    "    total_weights[knapsack_id] = np.sum(WEIGHTS[solution[knapsack_id]], axis=0)\n",
    "\n",
    "print(total_value)\n",
    "\n",
    "#ic(total_weights)\n",
    "\n",
    "#print(\"Vincoli\", CONSTRAINTS)"
   ]
  },
  {
   "cell_type": "code",
   "execution_count": 237,
   "id": "32dd141e",
   "metadata": {},
   "outputs": [
    {
     "data": {
      "text/plain": [
       "array([[False, False, False, False, False, False, False, False, False,\n",
       "        False, False, False,  True, False, False, False, False, False,\n",
       "        False, False, False, False, False, False, False, False, False,\n",
       "         True,  True, False, False, False, False, False,  True, False,\n",
       "        False, False, False, False, False, False, False, False, False,\n",
       "        False, False,  True, False, False, False, False, False, False,\n",
       "        False, False, False, False, False, False,  True, False, False,\n",
       "        False, False, False, False, False, False, False, False, False,\n",
       "        False, False,  True, False, False, False, False, False,  True,\n",
       "        False, False, False, False, False, False, False, False, False,\n",
       "        False, False, False, False,  True, False, False, False, False,\n",
       "        False],\n",
       "       [False, False, False, False, False, False, False, False, False,\n",
       "        False, False, False, False, False, False,  True, False, False,\n",
       "         True, False, False, False, False, False,  True, False, False,\n",
       "        False, False, False, False, False, False, False, False, False,\n",
       "        False, False, False, False, False, False, False,  True, False,\n",
       "        False, False, False, False, False, False, False, False, False,\n",
       "        False, False, False, False, False, False, False, False, False,\n",
       "         True, False, False, False, False, False, False, False, False,\n",
       "        False, False, False, False,  True, False, False, False, False,\n",
       "        False, False, False, False, False, False, False, False, False,\n",
       "        False, False, False, False, False, False, False, False, False,\n",
       "        False],\n",
       "       [False,  True, False, False, False, False, False, False, False,\n",
       "        False, False, False, False, False,  True, False, False, False,\n",
       "        False, False, False, False, False, False, False, False, False,\n",
       "        False, False, False, False, False, False, False, False, False,\n",
       "        False, False, False,  True, False, False, False, False, False,\n",
       "         True, False, False, False, False, False, False,  True, False,\n",
       "        False, False,  True, False, False, False, False, False, False,\n",
       "        False, False, False, False, False, False, False, False, False,\n",
       "        False, False, False, False, False, False, False, False, False,\n",
       "        False, False, False, False, False, False, False, False, False,\n",
       "        False,  True, False, False, False, False, False, False, False,\n",
       "        False],\n",
       "       [False, False, False, False, False, False, False, False, False,\n",
       "        False, False,  True, False, False, False, False, False, False,\n",
       "        False, False, False, False, False, False, False, False, False,\n",
       "        False, False, False, False, False, False,  True, False, False,\n",
       "        False,  True, False, False, False, False, False, False, False,\n",
       "        False, False, False, False, False, False, False, False, False,\n",
       "        False, False, False, False, False, False, False, False, False,\n",
       "        False, False, False,  True, False,  True, False, False, False,\n",
       "        False, False, False, False, False, False,  True, False, False,\n",
       "        False, False, False,  True, False, False, False, False, False,\n",
       "        False, False, False, False, False, False, False, False, False,\n",
       "        False],\n",
       "       [False, False, False, False,  True,  True, False, False, False,\n",
       "        False, False, False, False, False, False, False, False, False,\n",
       "        False, False, False, False, False, False, False, False, False,\n",
       "        False, False, False, False, False, False, False, False, False,\n",
       "        False, False, False, False, False, False, False, False, False,\n",
       "        False, False, False, False, False, False, False, False, False,\n",
       "        False, False, False, False, False,  True, False, False,  True,\n",
       "        False,  True, False, False, False, False, False, False, False,\n",
       "         True, False, False, False, False, False, False, False, False,\n",
       "        False, False, False, False, False, False, False, False,  True,\n",
       "        False, False, False, False, False, False, False, False, False,\n",
       "        False],\n",
       "       [False, False, False, False, False, False, False, False, False,\n",
       "        False, False, False, False, False, False, False, False, False,\n",
       "        False, False, False, False, False, False, False, False, False,\n",
       "        False, False, False, False, False, False, False, False, False,\n",
       "        False, False, False, False, False, False, False, False, False,\n",
       "        False, False, False, False, False,  True, False, False, False,\n",
       "        False, False, False, False, False, False, False, False, False,\n",
       "        False, False, False, False, False, False, False, False, False,\n",
       "        False, False, False, False, False, False, False, False, False,\n",
       "        False, False,  True, False,  True, False, False, False, False,\n",
       "        False, False,  True, False, False, False, False, False,  True,\n",
       "        False],\n",
       "       [False, False,  True, False, False, False, False, False, False,\n",
       "        False, False, False, False,  True, False, False, False, False,\n",
       "        False,  True, False, False, False, False, False, False, False,\n",
       "        False, False, False, False, False, False, False, False, False,\n",
       "        False, False, False, False, False, False, False, False, False,\n",
       "        False, False, False, False, False, False,  True, False, False,\n",
       "        False, False, False, False, False, False, False, False, False,\n",
       "        False, False, False, False, False, False, False, False, False,\n",
       "        False, False, False, False, False, False, False, False, False,\n",
       "        False, False, False, False, False, False, False, False, False,\n",
       "        False, False, False, False, False, False,  True,  True, False,\n",
       "        False],\n",
       "       [False, False, False, False, False, False,  True, False, False,\n",
       "        False, False, False, False, False, False, False, False, False,\n",
       "        False, False, False, False, False,  True, False, False, False,\n",
       "        False, False, False, False, False, False, False, False,  True,\n",
       "        False, False, False, False, False,  True, False, False, False,\n",
       "        False, False, False, False, False, False, False, False, False,\n",
       "        False, False, False, False, False, False, False, False, False,\n",
       "        False, False, False, False, False, False,  True, False, False,\n",
       "        False, False, False, False, False, False, False, False, False,\n",
       "        False, False, False, False, False,  True, False, False, False,\n",
       "        False, False, False, False, False, False, False, False, False,\n",
       "        False],\n",
       "       [False, False, False, False, False, False, False, False, False,\n",
       "        False, False, False, False, False, False, False, False, False,\n",
       "        False, False,  True, False, False, False, False, False, False,\n",
       "        False, False, False, False, False, False, False, False, False,\n",
       "         True, False, False, False, False, False, False, False, False,\n",
       "        False, False, False, False,  True, False, False, False, False,\n",
       "        False, False, False, False, False, False, False,  True, False,\n",
       "        False, False, False, False, False, False, False, False, False,\n",
       "        False, False, False, False, False, False, False, False, False,\n",
       "        False, False, False, False, False, False, False, False, False,\n",
       "        False, False, False, False, False, False, False, False, False,\n",
       "        False],\n",
       "       [False, False, False, False, False, False, False,  True, False,\n",
       "        False, False, False, False, False, False, False, False, False,\n",
       "        False, False, False, False, False, False, False, False, False,\n",
       "        False, False, False,  True, False, False, False, False, False,\n",
       "        False, False, False, False, False, False,  True, False, False,\n",
       "        False, False, False, False, False, False, False, False, False,\n",
       "        False, False, False, False, False, False, False, False, False,\n",
       "        False, False, False, False, False, False, False, False, False,\n",
       "        False, False, False, False, False, False, False, False, False,\n",
       "        False, False, False, False, False, False, False,  True, False,\n",
       "        False, False, False, False, False, False, False, False, False,\n",
       "        False]])"
      ]
     },
     "execution_count": 237,
     "metadata": {},
     "output_type": "execute_result"
    }
   ],
   "source": [
    "solution"
   ]
  }
 ],
 "metadata": {
  "kernelspec": {
   "display_name": "Python 3",
   "language": "python",
   "name": "python3"
  },
  "language_info": {
   "codemirror_mode": {
    "name": "ipython",
    "version": 3
   },
   "file_extension": ".py",
   "mimetype": "text/x-python",
   "name": "python",
   "nbconvert_exporter": "python",
   "pygments_lexer": "ipython3",
   "version": "3.13.3"
  }
 },
 "nbformat": 4,
 "nbformat_minor": 5
}
